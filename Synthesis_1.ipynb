{
  "cells": [
    {
      "cell_type": "code",
      "execution_count": 2,
      "metadata": {
        "id": "1MXsGuevaVRw"
      },
      "outputs": [],
      "source": [
        "import pandas as pd\n",
        "import sentencepiece as spm\n",
        "import math\n",
        "import torch\n",
        "from torch import nn\n",
        "from torch.utils.data import Dataset, DataLoader\n",
        "import torch.optim as optim"
      ]
    },
    {
      "cell_type": "code",
      "execution_count": 2,
      "metadata": {
        "colab": {
          "base_uri": "https://localhost:8080/"
        },
        "id": "IJA6l6aAabby",
        "outputId": "cb34e1bc-0386-438f-bf00-29a95049f3d9"
      },
      "outputs": [
        {
          "output_type": "stream",
          "name": "stdout",
          "text": [
            "Requirement already satisfied: kaggle in /usr/local/lib/python3.10/dist-packages (1.6.17)\n",
            "Requirement already satisfied: six>=1.10 in /usr/local/lib/python3.10/dist-packages (from kaggle) (1.16.0)\n",
            "Requirement already satisfied: certifi>=2023.7.22 in /usr/local/lib/python3.10/dist-packages (from kaggle) (2024.8.30)\n",
            "Requirement already satisfied: python-dateutil in /usr/local/lib/python3.10/dist-packages (from kaggle) (2.8.2)\n",
            "Requirement already satisfied: requests in /usr/local/lib/python3.10/dist-packages (from kaggle) (2.32.3)\n",
            "Requirement already satisfied: tqdm in /usr/local/lib/python3.10/dist-packages (from kaggle) (4.66.5)\n",
            "Requirement already satisfied: python-slugify in /usr/local/lib/python3.10/dist-packages (from kaggle) (8.0.4)\n",
            "Requirement already satisfied: urllib3 in /usr/local/lib/python3.10/dist-packages (from kaggle) (2.2.3)\n",
            "Requirement already satisfied: bleach in /usr/local/lib/python3.10/dist-packages (from kaggle) (6.1.0)\n",
            "Requirement already satisfied: webencodings in /usr/local/lib/python3.10/dist-packages (from bleach->kaggle) (0.5.1)\n",
            "Requirement already satisfied: text-unidecode>=1.3 in /usr/local/lib/python3.10/dist-packages (from python-slugify->kaggle) (1.3)\n",
            "Requirement already satisfied: charset-normalizer<4,>=2 in /usr/local/lib/python3.10/dist-packages (from requests->kaggle) (3.3.2)\n",
            "Requirement already satisfied: idna<4,>=2.5 in /usr/local/lib/python3.10/dist-packages (from requests->kaggle) (3.10)\n",
            "Dataset URL: https://www.kaggle.com/datasets/rmisra/news-category-dataset\n",
            "License(s): Attribution 4.0 International (CC BY 4.0)\n",
            "Downloading news-category-dataset.zip to /content\n",
            " 79% 21.0M/26.5M [00:01<00:00, 22.9MB/s]\n",
            "100% 26.5M/26.5M [00:01<00:00, 22.6MB/s]\n",
            "Archive:  news-category-dataset.zip\n",
            "  inflating: News_Category_Dataset_v3.json  \n"
          ]
        }
      ],
      "source": [
        "!pip install kaggle\n",
        "!kaggle datasets download -d rmisra/news-category-dataset\n",
        "!unzip news-category-dataset.zip"
      ]
    },
    {
      "cell_type": "code",
      "source": [
        "EPOCH = 10\n",
        "STRIDE = 2\n",
        "LIMIT = 20000\n",
        "BATCH_SIZE = 200\n",
        "LEARNING_RATE = 0.001\n",
        "DEVICE = torch.device('cuda' if torch.cuda.is_available() else 'cpu')\n",
        "BLOCKSIZE = 8\n",
        "NUM_WORKERS = 3\n",
        "\n",
        "\n",
        "print(DEVICE)"
      ],
      "metadata": {
        "colab": {
          "base_uri": "https://localhost:8080/"
        },
        "id": "ijIlogkfppJR",
        "outputId": "5ae3c923-0d13-4eb4-fc6b-e71d304a8250"
      },
      "execution_count": 17,
      "outputs": [
        {
          "output_type": "stream",
          "name": "stdout",
          "text": [
            "cuda\n"
          ]
        }
      ]
    },
    {
      "cell_type": "code",
      "execution_count": 4,
      "metadata": {
        "colab": {
          "base_uri": "https://localhost:8080/",
          "height": 379
        },
        "id": "dZ0m40SUZer5",
        "outputId": "3c1744f3-4889-4e79-fd53-310ae6612ed0"
      },
      "outputs": [
        {
          "output_type": "execute_result",
          "data": {
            "text/plain": [
              "                                            headline   category  \\\n",
              "0  Over 4 Million Americans Roll Up Sleeves For O...  U.S. NEWS   \n",
              "1  American Airlines Flyer Charged, Banned For Li...  U.S. NEWS   \n",
              "2  23 Of The Funniest Tweets About Cats And Dogs ...     COMEDY   \n",
              "3  The Funniest Tweets From Parents This Week (Se...  PARENTING   \n",
              "4  Woman Who Called Cops On Black Bird-Watcher Lo...  U.S. NEWS   \n",
              "\n",
              "                                   short_description               authors  \\\n",
              "0  Health experts said it is too early to predict...  Carla K. Johnson, AP   \n",
              "1  He was subdued by passengers and crew when he ...        Mary Papenfuss   \n",
              "2  \"Until you have a dog you don't understand wha...         Elyse Wanshel   \n",
              "3  \"Accidentally put grown-up toothpaste on my to...      Caroline Bologna   \n",
              "4  Amy Cooper accused investment firm Franklin Te...        Nina Golgowski   \n",
              "\n",
              "        date  \n",
              "0 2022-09-23  \n",
              "1 2022-09-23  \n",
              "2 2022-09-23  \n",
              "3 2022-09-23  \n",
              "4 2022-09-22  "
            ],
            "text/html": [
              "\n",
              "  <div id=\"df-0a55ae33-e275-4af1-9a48-302e2eebb47f\" class=\"colab-df-container\">\n",
              "    <div>\n",
              "<style scoped>\n",
              "    .dataframe tbody tr th:only-of-type {\n",
              "        vertical-align: middle;\n",
              "    }\n",
              "\n",
              "    .dataframe tbody tr th {\n",
              "        vertical-align: top;\n",
              "    }\n",
              "\n",
              "    .dataframe thead th {\n",
              "        text-align: right;\n",
              "    }\n",
              "</style>\n",
              "<table border=\"1\" class=\"dataframe\">\n",
              "  <thead>\n",
              "    <tr style=\"text-align: right;\">\n",
              "      <th></th>\n",
              "      <th>headline</th>\n",
              "      <th>category</th>\n",
              "      <th>short_description</th>\n",
              "      <th>authors</th>\n",
              "      <th>date</th>\n",
              "    </tr>\n",
              "  </thead>\n",
              "  <tbody>\n",
              "    <tr>\n",
              "      <th>0</th>\n",
              "      <td>Over 4 Million Americans Roll Up Sleeves For O...</td>\n",
              "      <td>U.S. NEWS</td>\n",
              "      <td>Health experts said it is too early to predict...</td>\n",
              "      <td>Carla K. Johnson, AP</td>\n",
              "      <td>2022-09-23</td>\n",
              "    </tr>\n",
              "    <tr>\n",
              "      <th>1</th>\n",
              "      <td>American Airlines Flyer Charged, Banned For Li...</td>\n",
              "      <td>U.S. NEWS</td>\n",
              "      <td>He was subdued by passengers and crew when he ...</td>\n",
              "      <td>Mary Papenfuss</td>\n",
              "      <td>2022-09-23</td>\n",
              "    </tr>\n",
              "    <tr>\n",
              "      <th>2</th>\n",
              "      <td>23 Of The Funniest Tweets About Cats And Dogs ...</td>\n",
              "      <td>COMEDY</td>\n",
              "      <td>\"Until you have a dog you don't understand wha...</td>\n",
              "      <td>Elyse Wanshel</td>\n",
              "      <td>2022-09-23</td>\n",
              "    </tr>\n",
              "    <tr>\n",
              "      <th>3</th>\n",
              "      <td>The Funniest Tweets From Parents This Week (Se...</td>\n",
              "      <td>PARENTING</td>\n",
              "      <td>\"Accidentally put grown-up toothpaste on my to...</td>\n",
              "      <td>Caroline Bologna</td>\n",
              "      <td>2022-09-23</td>\n",
              "    </tr>\n",
              "    <tr>\n",
              "      <th>4</th>\n",
              "      <td>Woman Who Called Cops On Black Bird-Watcher Lo...</td>\n",
              "      <td>U.S. NEWS</td>\n",
              "      <td>Amy Cooper accused investment firm Franklin Te...</td>\n",
              "      <td>Nina Golgowski</td>\n",
              "      <td>2022-09-22</td>\n",
              "    </tr>\n",
              "  </tbody>\n",
              "</table>\n",
              "</div>\n",
              "    <div class=\"colab-df-buttons\">\n",
              "\n",
              "  <div class=\"colab-df-container\">\n",
              "    <button class=\"colab-df-convert\" onclick=\"convertToInteractive('df-0a55ae33-e275-4af1-9a48-302e2eebb47f')\"\n",
              "            title=\"Convert this dataframe to an interactive table.\"\n",
              "            style=\"display:none;\">\n",
              "\n",
              "  <svg xmlns=\"http://www.w3.org/2000/svg\" height=\"24px\" viewBox=\"0 -960 960 960\">\n",
              "    <path d=\"M120-120v-720h720v720H120Zm60-500h600v-160H180v160Zm220 220h160v-160H400v160Zm0 220h160v-160H400v160ZM180-400h160v-160H180v160Zm440 0h160v-160H620v160ZM180-180h160v-160H180v160Zm440 0h160v-160H620v160Z\"/>\n",
              "  </svg>\n",
              "    </button>\n",
              "\n",
              "  <style>\n",
              "    .colab-df-container {\n",
              "      display:flex;\n",
              "      gap: 12px;\n",
              "    }\n",
              "\n",
              "    .colab-df-convert {\n",
              "      background-color: #E8F0FE;\n",
              "      border: none;\n",
              "      border-radius: 50%;\n",
              "      cursor: pointer;\n",
              "      display: none;\n",
              "      fill: #1967D2;\n",
              "      height: 32px;\n",
              "      padding: 0 0 0 0;\n",
              "      width: 32px;\n",
              "    }\n",
              "\n",
              "    .colab-df-convert:hover {\n",
              "      background-color: #E2EBFA;\n",
              "      box-shadow: 0px 1px 2px rgba(60, 64, 67, 0.3), 0px 1px 3px 1px rgba(60, 64, 67, 0.15);\n",
              "      fill: #174EA6;\n",
              "    }\n",
              "\n",
              "    .colab-df-buttons div {\n",
              "      margin-bottom: 4px;\n",
              "    }\n",
              "\n",
              "    [theme=dark] .colab-df-convert {\n",
              "      background-color: #3B4455;\n",
              "      fill: #D2E3FC;\n",
              "    }\n",
              "\n",
              "    [theme=dark] .colab-df-convert:hover {\n",
              "      background-color: #434B5C;\n",
              "      box-shadow: 0px 1px 3px 1px rgba(0, 0, 0, 0.15);\n",
              "      filter: drop-shadow(0px 1px 2px rgba(0, 0, 0, 0.3));\n",
              "      fill: #FFFFFF;\n",
              "    }\n",
              "  </style>\n",
              "\n",
              "    <script>\n",
              "      const buttonEl =\n",
              "        document.querySelector('#df-0a55ae33-e275-4af1-9a48-302e2eebb47f button.colab-df-convert');\n",
              "      buttonEl.style.display =\n",
              "        google.colab.kernel.accessAllowed ? 'block' : 'none';\n",
              "\n",
              "      async function convertToInteractive(key) {\n",
              "        const element = document.querySelector('#df-0a55ae33-e275-4af1-9a48-302e2eebb47f');\n",
              "        const dataTable =\n",
              "          await google.colab.kernel.invokeFunction('convertToInteractive',\n",
              "                                                    [key], {});\n",
              "        if (!dataTable) return;\n",
              "\n",
              "        const docLinkHtml = 'Like what you see? Visit the ' +\n",
              "          '<a target=\"_blank\" href=https://colab.research.google.com/notebooks/data_table.ipynb>data table notebook</a>'\n",
              "          + ' to learn more about interactive tables.';\n",
              "        element.innerHTML = '';\n",
              "        dataTable['output_type'] = 'display_data';\n",
              "        await google.colab.output.renderOutput(dataTable, element);\n",
              "        const docLink = document.createElement('div');\n",
              "        docLink.innerHTML = docLinkHtml;\n",
              "        element.appendChild(docLink);\n",
              "      }\n",
              "    </script>\n",
              "  </div>\n",
              "\n",
              "\n",
              "<div id=\"df-080fd078-4b97-436e-a031-52289d2609d3\">\n",
              "  <button class=\"colab-df-quickchart\" onclick=\"quickchart('df-080fd078-4b97-436e-a031-52289d2609d3')\"\n",
              "            title=\"Suggest charts\"\n",
              "            style=\"display:none;\">\n",
              "\n",
              "<svg xmlns=\"http://www.w3.org/2000/svg\" height=\"24px\"viewBox=\"0 0 24 24\"\n",
              "     width=\"24px\">\n",
              "    <g>\n",
              "        <path d=\"M19 3H5c-1.1 0-2 .9-2 2v14c0 1.1.9 2 2 2h14c1.1 0 2-.9 2-2V5c0-1.1-.9-2-2-2zM9 17H7v-7h2v7zm4 0h-2V7h2v10zm4 0h-2v-4h2v4z\"/>\n",
              "    </g>\n",
              "</svg>\n",
              "  </button>\n",
              "\n",
              "<style>\n",
              "  .colab-df-quickchart {\n",
              "      --bg-color: #E8F0FE;\n",
              "      --fill-color: #1967D2;\n",
              "      --hover-bg-color: #E2EBFA;\n",
              "      --hover-fill-color: #174EA6;\n",
              "      --disabled-fill-color: #AAA;\n",
              "      --disabled-bg-color: #DDD;\n",
              "  }\n",
              "\n",
              "  [theme=dark] .colab-df-quickchart {\n",
              "      --bg-color: #3B4455;\n",
              "      --fill-color: #D2E3FC;\n",
              "      --hover-bg-color: #434B5C;\n",
              "      --hover-fill-color: #FFFFFF;\n",
              "      --disabled-bg-color: #3B4455;\n",
              "      --disabled-fill-color: #666;\n",
              "  }\n",
              "\n",
              "  .colab-df-quickchart {\n",
              "    background-color: var(--bg-color);\n",
              "    border: none;\n",
              "    border-radius: 50%;\n",
              "    cursor: pointer;\n",
              "    display: none;\n",
              "    fill: var(--fill-color);\n",
              "    height: 32px;\n",
              "    padding: 0;\n",
              "    width: 32px;\n",
              "  }\n",
              "\n",
              "  .colab-df-quickchart:hover {\n",
              "    background-color: var(--hover-bg-color);\n",
              "    box-shadow: 0 1px 2px rgba(60, 64, 67, 0.3), 0 1px 3px 1px rgba(60, 64, 67, 0.15);\n",
              "    fill: var(--button-hover-fill-color);\n",
              "  }\n",
              "\n",
              "  .colab-df-quickchart-complete:disabled,\n",
              "  .colab-df-quickchart-complete:disabled:hover {\n",
              "    background-color: var(--disabled-bg-color);\n",
              "    fill: var(--disabled-fill-color);\n",
              "    box-shadow: none;\n",
              "  }\n",
              "\n",
              "  .colab-df-spinner {\n",
              "    border: 2px solid var(--fill-color);\n",
              "    border-color: transparent;\n",
              "    border-bottom-color: var(--fill-color);\n",
              "    animation:\n",
              "      spin 1s steps(1) infinite;\n",
              "  }\n",
              "\n",
              "  @keyframes spin {\n",
              "    0% {\n",
              "      border-color: transparent;\n",
              "      border-bottom-color: var(--fill-color);\n",
              "      border-left-color: var(--fill-color);\n",
              "    }\n",
              "    20% {\n",
              "      border-color: transparent;\n",
              "      border-left-color: var(--fill-color);\n",
              "      border-top-color: var(--fill-color);\n",
              "    }\n",
              "    30% {\n",
              "      border-color: transparent;\n",
              "      border-left-color: var(--fill-color);\n",
              "      border-top-color: var(--fill-color);\n",
              "      border-right-color: var(--fill-color);\n",
              "    }\n",
              "    40% {\n",
              "      border-color: transparent;\n",
              "      border-right-color: var(--fill-color);\n",
              "      border-top-color: var(--fill-color);\n",
              "    }\n",
              "    60% {\n",
              "      border-color: transparent;\n",
              "      border-right-color: var(--fill-color);\n",
              "    }\n",
              "    80% {\n",
              "      border-color: transparent;\n",
              "      border-right-color: var(--fill-color);\n",
              "      border-bottom-color: var(--fill-color);\n",
              "    }\n",
              "    90% {\n",
              "      border-color: transparent;\n",
              "      border-bottom-color: var(--fill-color);\n",
              "    }\n",
              "  }\n",
              "</style>\n",
              "\n",
              "  <script>\n",
              "    async function quickchart(key) {\n",
              "      const quickchartButtonEl =\n",
              "        document.querySelector('#' + key + ' button');\n",
              "      quickchartButtonEl.disabled = true;  // To prevent multiple clicks.\n",
              "      quickchartButtonEl.classList.add('colab-df-spinner');\n",
              "      try {\n",
              "        const charts = await google.colab.kernel.invokeFunction(\n",
              "            'suggestCharts', [key], {});\n",
              "      } catch (error) {\n",
              "        console.error('Error during call to suggestCharts:', error);\n",
              "      }\n",
              "      quickchartButtonEl.classList.remove('colab-df-spinner');\n",
              "      quickchartButtonEl.classList.add('colab-df-quickchart-complete');\n",
              "    }\n",
              "    (() => {\n",
              "      let quickchartButtonEl =\n",
              "        document.querySelector('#df-080fd078-4b97-436e-a031-52289d2609d3 button');\n",
              "      quickchartButtonEl.style.display =\n",
              "        google.colab.kernel.accessAllowed ? 'block' : 'none';\n",
              "    })();\n",
              "  </script>\n",
              "</div>\n",
              "\n",
              "    </div>\n",
              "  </div>\n"
            ],
            "application/vnd.google.colaboratory.intrinsic+json": {
              "type": "dataframe",
              "variable_name": "data",
              "summary": "{\n  \"name\": \"data\",\n  \"rows\": 20000,\n  \"fields\": [\n    {\n      \"column\": \"headline\",\n      \"properties\": {\n        \"dtype\": \"string\",\n        \"num_unique_values\": 19926,\n        \"samples\": [\n          \"Donald Trump Heats Up\\u00a0Feud\\u00a0With Iran By Praising Anti-Government Protests\",\n          \"Ariana Grande Spills Deets On Album Release On 'Tonight Show'\",\n          \"21 Weird Holidays And Their Origin Stories\"\n        ],\n        \"semantic_type\": \"\",\n        \"description\": \"\"\n      }\n    },\n    {\n      \"column\": \"category\",\n      \"properties\": {\n        \"dtype\": \"category\",\n        \"num_unique_values\": 36,\n        \"samples\": [\n          \"HEALTHY LIVING\",\n          \"SCIENCE\",\n          \"LATINO VOICES\"\n        ],\n        \"semantic_type\": \"\",\n        \"description\": \"\"\n      }\n    },\n    {\n      \"column\": \"short_description\",\n      \"properties\": {\n        \"dtype\": \"string\",\n        \"num_unique_values\": 19934,\n        \"samples\": [\n          \"Macron is in pole position to win reelection Sunday in France's presidential runoff -- but the reported margin over his nationalist rival has a large room for error.\",\n          \"\\u201cThe Morning Show\\u201d star and the \\u201cBarefoot Contessa\\u201d have hilariously different takes on self-care.\",\n          \"Certain temperatures are too dangerous for pets. Experts share precautions and tips for how to take care of your feline friends in a heat wave.\"\n        ],\n        \"semantic_type\": \"\",\n        \"description\": \"\"\n      }\n    },\n    {\n      \"column\": \"authors\",\n      \"properties\": {\n        \"dtype\": \"category\",\n        \"num_unique_values\": 2672,\n        \"samples\": [\n          \"Phillip M. Miner, ContributorQueer Advocate and profiler of Queer Artists\",\n          \"DAN ELLIOTT, AP\",\n          \"Carla Herreria Russo and Jillian Stampher\"\n        ],\n        \"semantic_type\": \"\",\n        \"description\": \"\"\n      }\n    },\n    {\n      \"column\": \"date\",\n      \"properties\": {\n        \"dtype\": \"date\",\n        \"min\": \"2017-11-20 00:00:00\",\n        \"max\": \"2022-09-23 00:00:00\",\n        \"num_unique_values\": 1769,\n        \"samples\": [\n          \"2020-01-23 00:00:00\",\n          \"2021-12-22 00:00:00\",\n          \"2021-08-08 00:00:00\"\n        ],\n        \"semantic_type\": \"\",\n        \"description\": \"\"\n      }\n    }\n  ]\n}"
            }
          },
          "metadata": {},
          "execution_count": 4
        }
      ],
      "source": [
        "# https://www.kaggle.com/datasets/rmisra/news-category-dataset/data\n",
        "\n",
        "directory = \"./News_Category_Dataset_v3.json\"\n",
        "data = pd.read_json(directory, lines=True)[:LIMIT]\n",
        "data = data.drop('link', axis=1)\n",
        "data.head()"
      ]
    },
    {
      "cell_type": "code",
      "execution_count": 5,
      "metadata": {
        "id": "_-CWMhyZamBq"
      },
      "outputs": [],
      "source": [
        "def encode(\n",
        "    df: pd.DataFrame,\n",
        "    bos_token: int,\n",
        "    eos_token: int,\n",
        "    mean: float = None,\n",
        "    std:float = None\n",
        "    ):\n",
        "  \"\"\" Tokenize dataframe in the form\n",
        "\n",
        "      | headline |\tcategory |\tshort_description |\tauthors |\tdate |\n",
        "            ||          ||              ||             ||       ||\n",
        "      sentencepiece  index-based   sentencepiece  index-based  Normalized\n",
        "\n",
        "  Args:\n",
        "      df: The dataframe to Tokenize.\n",
        "      mean: Mean for normalization of date.\n",
        "      std: Standard deviation for normalization of date.\n",
        "\n",
        "  Returns:\n",
        "      The tokenized dataframe.\n",
        "  \"\"\"\n",
        "\n",
        "  categories         = df.category.unique().tolist()\n",
        "  category_tokens_ix = dict(enumerate(categories))\n",
        "  category_tokens_xi = {x:i for i, x in category_tokens_ix.items()}\n",
        "\n",
        "  authors           = df.authors.unique().tolist()\n",
        "  authors_tokens_ix = dict(enumerate(authors))\n",
        "  authors_tokens_xi = {x:i for i, x in authors_tokens_ix.items()}\n",
        "\n",
        "  print(\"Total number of categories:\", len(category_tokens_ix))\n",
        "  print(\"Total number of Authors:\",    len(authors_tokens_ix))\n",
        "\n",
        "  df['date']    = (df['date'] - df['date'].min()).dt.total_seconds()\n",
        "\n",
        "  mean = mean if mean else df['date'].mean()\n",
        "  std  = std if std else df['date'].std()\n",
        "\n",
        "  print('Using mean as {} for date'.format(mean))\n",
        "  print('Using std as {} for date'.format(std))\n",
        "\n",
        "  df['date']              = (df['date'] - mean)/std\n",
        "  df['category']          = df['category'].map(category_tokens_xi)\n",
        "  df['authors']           = df['authors'].map(authors_tokens_xi)\n",
        "  df['headline']          = df['headline'].map(lambda x: [bos_token] + sp.encode_as_ids(x) + [eos_token])\n",
        "  df['short_description'] = df['short_description'].map(lambda x: [bos_token] + sp.encode_as_ids(x) + [eos_token])\n",
        "\n",
        "  return df, category_tokens_ix, authors_tokens_ix, mean, std, (len(category_tokens_ix),\n",
        "                                                                len(authors_tokens_ix))"
      ]
    },
    {
      "cell_type": "code",
      "execution_count": 6,
      "metadata": {
        "id": "BB6QO8jHawJd"
      },
      "outputs": [],
      "source": [
        "def pad_dataset(df: pd.DataFrame, PAD_TOKEN: int):\n",
        "  \"\"\"Pads the headline and short_description columns of the dataframe with the given pad token.\n",
        "\n",
        "  Args:\n",
        "      df: The dataframe to pad.\n",
        "      pad_token: The token to use for padding.\n",
        "\n",
        "  Returns:\n",
        "      The padded dataframe.\n",
        "  \"\"\"\n",
        "  MAX_HEADLINE_LENGHT       = df['headline'].str.len().max()\n",
        "  MAX_SHORT_DESCRIPTION_LEN = df['short_description'].str.len().max()\n",
        "\n",
        "  print(\"Maxlen for headline:\", MAX_HEADLINE_LENGHT)\n",
        "  print(\"Maxlen for short_description:\", MAX_SHORT_DESCRIPTION_LEN)\n",
        "\n",
        "  df['headline'] = df['headline'].map(lambda x: x + [PAD_TOKEN] * (MAX_HEADLINE_LENGHT - len(x)))\n",
        "  df['short_description'] = df['short_description'].map(lambda x: x + [PAD_TOKEN] * (MAX_SHORT_DESCRIPTION_LEN - len(x)))\n",
        "\n",
        "  return df, MAX_HEADLINE_LENGHT, MAX_SHORT_DESCRIPTION_LEN\n"
      ]
    },
    {
      "cell_type": "code",
      "execution_count": 7,
      "metadata": {
        "colab": {
          "base_uri": "https://localhost:8080/"
        },
        "id": "KeBfnQ7ha0RR",
        "outputId": "7b493b96-2e5f-4e80-f73f-2f39e7fb79e8"
      },
      "outputs": [
        {
          "output_type": "stream",
          "name": "stdout",
          "text": [
            "  % Total    % Received % Xferd  Average Speed   Time    Time     Time  Current\n",
            "                                 Dload  Upload   Total   Spent    Left  Speed\n",
            "100 88432  100 88432    0     0   295k      0 --:--:-- --:--:-- --:--:--  295k\n",
            "  % Total    % Received % Xferd  Average Speed   Time    Time     Time  Current\n",
            "                                 Dload  Upload   Total   Spent    Left  Speed\n",
            "100  313k  100  313k    0     0   727k      0 --:--:-- --:--:-- --:--:--  726k\n"
          ]
        }
      ],
      "source": [
        "!curl -o m.vocab https://raw.githubusercontent.com/messi10tom/Fake-news-Generator/main/m.vocab\n",
        "!curl -o m.model https://raw.githubusercontent.com/messi10tom/Fake-news-Generator/main/m.model"
      ]
    },
    {
      "cell_type": "code",
      "execution_count": 8,
      "metadata": {
        "colab": {
          "base_uri": "https://localhost:8080/"
        },
        "id": "-E0hm9bha2rE",
        "outputId": "1669e9c0-dba2-4d25-bc06-9fca31871a06"
      },
      "outputs": [
        {
          "output_type": "execute_result",
          "data": {
            "text/plain": [
              "True"
            ]
          },
          "metadata": {},
          "execution_count": 8
        }
      ],
      "source": [
        "sp = spm.SentencePieceProcessor()\n",
        "sp.load('m.model')\n",
        "\n",
        "# dataset, token_category, token_author, mean, std, vocabsizes = encode(data.copy(),\n",
        "#                                                                         sp.bos_id(),\n",
        "#                                                                        sp.eos_id())\n",
        "# dataset, maxlen_H, maxlen_S = pad_dataset(dataset, sp.unk_id())"
      ]
    },
    {
      "cell_type": "code",
      "execution_count": 9,
      "metadata": {
        "id": "tqUVh-WjbBrL"
      },
      "outputs": [],
      "source": [
        "class FN_Dataset(Dataset):\n",
        "    \"\"\"  Fake News dataset \"\"\"\n",
        "    def __init__(self,\n",
        "                 df: pd.DataFrame,\n",
        "                 bos_token: int,\n",
        "                 eos_token: int,\n",
        "                 pad_token: int,\n",
        "                 mean: float = None,\n",
        "                 std:float = None\n",
        "                 ):\n",
        "      \"\"\"\n",
        "\n",
        "      Args:\n",
        "        df              : Dataframe containing the data.\n",
        "        bos_token       : Beginning of sentence token.\n",
        "        eos_token       : End of sentence token.\n",
        "        pad_token       : Padding token.\n",
        "        mean(Optional)  : Mean for normalization of date.\n",
        "        std(Optional)   : Standard deviation for normalization of date.\n",
        "\n",
        "      \"\"\"\n",
        "\n",
        "      super().__init__()\n",
        "\n",
        "      self.df, self.Category_decoder, self.Author_decoder, self.mean, self.std, self.vocabsizes = encode(df, bos_token, eos_token, mean, std)\n",
        "      self.df, self.maxlen_H, self.maxlen_S = pad_dataset(self.df, pad_token)\n",
        "\n",
        "    def __len__(self):\n",
        "        return len(self.df)\n",
        "\n",
        "    def __getitem__(self, idx):\n",
        "      sample = self.df.iloc[idx]\n",
        "\n",
        "      return (torch.tensor(sample['headline']),\n",
        "              torch.tensor([sample['authors'], sample['category'], sample['date']]).to(torch.float32),\n",
        "              torch.tensor(sample['short_description']),\n",
        "              nn.functional.one_hot(torch.tensor(sample['short_description']),\n",
        "                                    num_classes=sp.vocab_size()).to(torch.float32))"
      ]
    },
    {
      "cell_type": "code",
      "execution_count": 10,
      "metadata": {
        "id": "PZj-OTtycLJu"
      },
      "outputs": [],
      "source": [
        "class PositionalEncoding(nn.Module):\n",
        "    def __init__(self,\n",
        "                 embed_d: int,\n",
        "                 dropout: float,\n",
        "                 max_len: int\n",
        "                 ):\n",
        "        \"\"\"\n",
        "        Args:\n",
        "          d_model: Dimension of the embedding.\n",
        "          dropout: Dropout rate.\n",
        "          max_len: Maximum length of the sequence.\n",
        "\n",
        "        \"\"\"\n",
        "\n",
        "        super().__init__()\n",
        "\n",
        "        self.dropout = nn.Dropout(dropout)\n",
        "\n",
        "        pos_encoding = torch.zeros(max_len, embed_d)\n",
        "        positions_list = torch.arange(0,\n",
        "                                      max_len,\n",
        "                                      dtype=torch.float).view(-1, 1) # 0, 1, 2, 3, 4, 5\n",
        "\n",
        "        division_term = torch.exp(torch.arange(0, embed_d, 2).float() * (-math.log(10000.0)) / embed_d) # 1000^(2i/dim_model)\n",
        "\n",
        "        # PE(pos, 2i) = sin(pos/1000^(2i/dim_model))\n",
        "        pos_encoding[:, 0::2] = torch.sin(positions_list * division_term)\n",
        "\n",
        "        # PE(pos, 2i + 1) = cos(pos/1000^(2i/dim_model))\n",
        "        pos_encoding[:, 1::2] = torch.cos(positions_list * division_term)\n",
        "\n",
        "        # Saving buffer (same as parameter without gradients needed)\n",
        "        pos_encoding = pos_encoding.unsqueeze(0).transpose(0, 1)\n",
        "        self.register_buffer(\"pos_encoding\",pos_encoding)\n",
        "\n",
        "    def forward(self, token_embedding: torch.tensor) -> torch.tensor:\n",
        "        # Residual connection + pos encoding\n",
        "        return self.dropout(token_embedding + self.pos_encoding[:token_embedding.size(0), :])"
      ]
    },
    {
      "cell_type": "code",
      "execution_count": 11,
      "metadata": {
        "id": "JEVTCh-cef0-"
      },
      "outputs": [],
      "source": [
        "class FN_Generator(nn.Module):\n",
        "    \"\"\" Generate short_description \"\"\"\n",
        "    def __init__(self,\n",
        "                 output_dim: int,\n",
        "                 headline_vocabsize: int,\n",
        "                 inputsize_H: int,\n",
        "                 d_model: int = 64,\n",
        "                 nhead: int = 8,\n",
        "                 num_decoder_layers: int = 6,\n",
        "                 dropout: float = 0.1\n",
        "                 ) -> None:\n",
        "\n",
        "        \"\"\"\n",
        "        Args:\n",
        "          output_dim          : Dimension of the output.\n",
        "          embed_dim           : Dimension of the embedding.\n",
        "          headline_vocabsize  : Vocabulary size of the headline.\n",
        "          inputsize_H         : Input size of the headline.\n",
        "          inputsize_S         : Input size of the short_description.\n",
        "          cat_vocabsize       : Vocabulary size of the category.\n",
        "          auth_vocabsize      : Vocabulary size of the authors.\n",
        "          d_model             : Dimension of the Transformer.\n",
        "          nhead               : Number of heads.\n",
        "          num_encoder_layers  : Number of encoder layers.\n",
        "          num_decoder_layers  : Number of decoder layers.\n",
        "          dropout             : Dropout rate.\n",
        "\n",
        "        \"\"\"\n",
        "        super(FN_Generator, self).__init__()\n",
        "\n",
        "        self.positional_encoder = PositionalEncoding(embed_d=d_model,\n",
        "                                                     dropout=dropout,\n",
        "                                                     max_len=inputsize_H)\n",
        "        self.data_embed = nn.Linear(3, d_model)\n",
        "        self.relu       = nn.ReLU()\n",
        "        self.flatten    = nn.Flatten()\n",
        "\n",
        "        self.headline_embed = nn.Embedding(headline_vocabsize, d_model)\n",
        "\n",
        "        self.transformer = nn.TransformerDecoder(\n",
        "            nn.TransformerDecoderLayer(d_model,\n",
        "                                       nhead,\n",
        "                                       batch_first=True),\n",
        "            num_decoder_layers)\n",
        "\n",
        "        self.output = nn.Linear(d_model * (inputsize_H+1), output_dim)\n",
        "\n",
        "    def forward(self, src_h, src_o, tgt):\n",
        "        lin = self.relu(self.data_embed(src_o)).unsqueeze(1)\n",
        "\n",
        "        headline = self.positional_encoder(self.headline_embed(src_h))\n",
        "        short_description = self.positional_encoder(self.headline_embed(tgt))\n",
        "\n",
        "        trans_in = torch.cat((headline, lin), dim=1)\n",
        "        trans_out = self.transformer(trans_in, short_description)\n",
        "\n",
        "        return nn.functional.softmax(self.output(self.flatten(trans_out)), dim=1)"
      ]
    },
    {
      "cell_type": "code",
      "execution_count": 12,
      "metadata": {
        "colab": {
          "base_uri": "https://localhost:8080/"
        },
        "id": "XQiiktaswxjG",
        "outputId": "64a875eb-3d5f-4069-fe1b-0d91e37c9bed"
      },
      "outputs": [
        {
          "output_type": "stream",
          "name": "stdout",
          "text": [
            "Total number of categories: 36\n",
            "Total number of Authors: 2672\n",
            "Using mean as 41125687.2 for date\n",
            "Using std as 46165679.35456249 for date\n",
            "Maxlen for headline: 54\n",
            "Maxlen for short_description: 76\n"
          ]
        },
        {
          "output_type": "stream",
          "name": "stderr",
          "text": [
            "/usr/local/lib/python3.10/dist-packages/torch/utils/data/dataloader.py:557: UserWarning: This DataLoader will create 3 worker processes in total. Our suggested max number of worker in current system is 2, which is smaller than what this DataLoader is going to create. Please be aware that excessive worker creation might get DataLoader running slow or even freeze, lower the worker number to avoid potential slowness/freeze if necessary.\n",
            "  warnings.warn(_create_warning_msg(\n"
          ]
        }
      ],
      "source": [
        "dataset = FN_Dataset(df=data,\n",
        "                     bos_token=sp.bos_id(),\n",
        "                     eos_token=sp.eos_id(),\n",
        "                     pad_token=sp.unk_id(),\n",
        "                     )\n",
        "dataloader = DataLoader(dataset,\n",
        "                        batch_size=32,\n",
        "                        shuffle=True,\n",
        "                        num_workers=NUM_WORKERS,\n",
        "                        pin_memory=True)"
      ]
    },
    {
      "cell_type": "code",
      "execution_count": 13,
      "metadata": {
        "id": "RAwZaFapwPJr"
      },
      "outputs": [],
      "source": [
        "generator = FN_Generator(output_dim=sp.vocab_size(),\n",
        "                         headline_vocabsize=sp.vocab_size(),\n",
        "                         inputsize_H=dataset.maxlen_H).to(DEVICE)"
      ]
    },
    {
      "cell_type": "code",
      "execution_count": 14,
      "metadata": {
        "id": "jUF8wc3k0Ueo"
      },
      "outputs": [],
      "source": [
        "crossentropy = nn.CrossEntropyLoss().to(DEVICE)\n",
        "optimizer = optim.AdamW(generator.parameters(), lr=0.005)"
      ]
    },
    {
      "cell_type": "code",
      "source": [
        "import time"
      ],
      "metadata": {
        "id": "KJe4WBfey_lG"
      },
      "execution_count": 15,
      "outputs": []
    },
    {
      "cell_type": "code",
      "execution_count": 18,
      "metadata": {
        "id": "GWGCvJzQ0NpN",
        "colab": {
          "base_uri": "https://localhost:8080/",
          "height": 335
        },
        "outputId": "548e223f-5854-4849-c7d7-da0cea54e5d2"
      },
      "outputs": [
        {
          "output_type": "stream",
          "name": "stderr",
          "text": [
            "/usr/local/lib/python3.10/dist-packages/torch/utils/data/dataloader.py:557: UserWarning: This DataLoader will create 3 worker processes in total. Our suggested max number of worker in current system is 2, which is smaller than what this DataLoader is going to create. Please be aware that excessive worker creation might get DataLoader running slow or even freeze, lower the worker number to avoid potential slowness/freeze if necessary.\n",
            "  warnings.warn(_create_warning_msg(\n"
          ]
        },
        {
          "output_type": "stream",
          "name": "stdout",
          "text": [
            "707.9901134967804\n",
            "Epoch 0  Loss --> 7.5175371170043945\n",
            "708.4594149589539\n",
            "Epoch 1  Loss --> 7.5175371170043945\n"
          ]
        },
        {
          "output_type": "error",
          "ename": "KeyboardInterrupt",
          "evalue": "",
          "traceback": [
            "\u001b[0;31m---------------------------------------------------------------------------\u001b[0m",
            "\u001b[0;31mKeyboardInterrupt\u001b[0m                         Traceback (most recent call last)",
            "\u001b[0;32m<ipython-input-18-68522154c589>\u001b[0m in \u001b[0;36m<cell line: 3>\u001b[0;34m()\u001b[0m\n\u001b[1;32m      7\u001b[0m \u001b[0;34m\u001b[0m\u001b[0m\n\u001b[1;32m      8\u001b[0m           \u001b[0moptimizer\u001b[0m\u001b[0;34m.\u001b[0m\u001b[0mzero_grad\u001b[0m\u001b[0;34m(\u001b[0m\u001b[0mset_to_none\u001b[0m\u001b[0;34m=\u001b[0m\u001b[0;32mTrue\u001b[0m\u001b[0;34m)\u001b[0m\u001b[0;34m\u001b[0m\u001b[0;34m\u001b[0m\u001b[0m\n\u001b[0;32m----> 9\u001b[0;31m           output = generator(src_h.to(DEVICE),\n\u001b[0m\u001b[1;32m     10\u001b[0m                             \u001b[0msrc_o\u001b[0m\u001b[0;34m.\u001b[0m\u001b[0mto\u001b[0m\u001b[0;34m(\u001b[0m\u001b[0mDEVICE\u001b[0m\u001b[0;34m)\u001b[0m\u001b[0;34m,\u001b[0m\u001b[0;34m\u001b[0m\u001b[0;34m\u001b[0m\u001b[0m\n\u001b[1;32m     11\u001b[0m                             tgt[:, l-BLOCKSIZE:l].to(DEVICE))\n",
            "\u001b[0;31mKeyboardInterrupt\u001b[0m: "
          ]
        }
      ],
      "source": [
        "assert dataset.maxlen_S > BLOCKSIZE\n",
        "\n",
        "for epoch in range(EPOCH):\n",
        "    start_time = time.time()\n",
        "    for i, (src_h, src_o, tgt, otgt) in enumerate(dataloader):\n",
        "        for l in range(BLOCKSIZE, dataset.maxlen_S, STRIDE):\n",
        "\n",
        "          optimizer.zero_grad(set_to_none=True)\n",
        "          output = generator(src_h.to(DEVICE),\n",
        "                            src_o.to(DEVICE),\n",
        "                            tgt[:, l-BLOCKSIZE:l].to(DEVICE))\n",
        "\n",
        "          loss = crossentropy(output, otgt[:, l].to(DEVICE))\n",
        "          loss.backward()\n",
        "          optimizer.step()\n",
        "\n",
        "        end_time = time.time()\n",
        "\n",
        "    print(end_time  - start_time)\n",
        "    print('Epoch',epoch,' Loss -->',loss.item())"
      ]
    }
  ],
  "metadata": {
    "accelerator": "GPU",
    "colab": {
      "gpuType": "T4",
      "provenance": [],
      "authorship_tag": "ABX9TyNkXgpjCUCYH/HKVjkI3HsH"
    },
    "kernelspec": {
      "display_name": "Python 3",
      "name": "python3"
    },
    "language_info": {
      "name": "python"
    }
  },
  "nbformat": 4,
  "nbformat_minor": 0
}